{
 "cells": [
  {
   "cell_type": "markdown",
   "id": "ce5e2e56",
   "metadata": {},
   "source": [
    "This project is to predict if a customer is happy or not based on the survey answers.\n",
    "\n",
    "**Data Description:**\n",
    "\n",
    "- Y = target attribute (Y) with values indicating 0 (unhappy) and 1 (happy) customers\n",
    "- X1 = my order was delivered on time\n",
    "- X2 = contents of my order was as I expected\n",
    "- X3 = I ordered everything I wanted to order\n",
    "- X4 = I paid a good price for my order \n",
    "- X5 = I am satisfied with my courier\n",
    "- X6 = the app makes ordering easy for me \n",
    "\n",
    "Attributes X1 to X6 indicate the responses for each question and have values from 1 to 5 where the smaller number indicates less and the higher number indicates more towards the answer. "
   ]
  },
  {
   "cell_type": "markdown",
   "id": "9f8dbd02",
   "metadata": {},
   "source": [
    "# Table of contents\n",
    "\n",
    " - [EDA](#eda)\n",
    "   - [1. Check missing values](#nan)\n",
    "   - [2. Check duplicates](#dup)\n",
    "   - [3. Check class ratio](#classratio)\n",
    "   - [4. Rename columns](#rename)\n",
    "   - [5. Check outliers](#outliers)\n",
    "   - [6. Check multicollinearity](#multicollinearity)\n",
    " - [Feature Selection](#fs)\n",
    "   - [1. Feature Importance](#fi)\n",
    "   - [2. Univariate Feature Selection](#ufs)\n",
    " - [Data Split](#datasplit)\n",
    " - [Modelling](#model)\n",
    "   - [1. Logistic Regression](#logit)\n",
    "   - [2. Decision Tree](#dt)\n",
    "   - [3. Random Forest](#rf)\n",
    "   - [4. XGB](#xgb)\n",
    " - [Conclusion](#conclusion)"
   ]
  },
  {
   "cell_type": "code",
   "execution_count": 3,
   "id": "af7f310e",
   "metadata": {},
   "outputs": [],
   "source": [
    "import numpy as np\n",
    "import pandas as pd\n",
    "import matplotlib.pyplot as plt\n",
    "import seaborn as sns\n",
    "from sklearn.model_selection import train_test_split\n",
    "from sklearn.pipeline import Pipeline\n",
    "from sklearn.model_selection import RandomizedSearchCV\n",
    "from sklearn.preprocessing import MinMaxScaler, StandardScaler\n",
    "from sklearn.feature_selection import SelectKBest, chi2\n",
    "\n",
    "import warnings\n",
    "warnings.filterwarnings('ignore')\n",
    "\n",
    "from sklearn.linear_model import LogisticRegression\n",
    "from sklearn.ensemble import RandomForestClassifier\n",
    "from sklearn.tree import DecisionTreeClassifier\n",
    "from xgboost import XGBClassifier"
   ]
  },
  {
   "cell_type": "code",
   "execution_count": 2,
   "id": "bbaac324",
   "metadata": {
    "scrolled": false
   },
   "outputs": [
    {
     "data": {
      "text/html": [
       "<div>\n",
       "<style scoped>\n",
       "    .dataframe tbody tr th:only-of-type {\n",
       "        vertical-align: middle;\n",
       "    }\n",
       "\n",
       "    .dataframe tbody tr th {\n",
       "        vertical-align: top;\n",
       "    }\n",
       "\n",
       "    .dataframe thead th {\n",
       "        text-align: right;\n",
       "    }\n",
       "</style>\n",
       "<table border=\"1\" class=\"dataframe\">\n",
       "  <thead>\n",
       "    <tr style=\"text-align: right;\">\n",
       "      <th></th>\n",
       "      <th>Y</th>\n",
       "      <th>X1</th>\n",
       "      <th>X2</th>\n",
       "      <th>X3</th>\n",
       "      <th>X4</th>\n",
       "      <th>X5</th>\n",
       "      <th>X6</th>\n",
       "    </tr>\n",
       "  </thead>\n",
       "  <tbody>\n",
       "    <tr>\n",
       "      <th>0</th>\n",
       "      <td>0</td>\n",
       "      <td>3</td>\n",
       "      <td>3</td>\n",
       "      <td>3</td>\n",
       "      <td>4</td>\n",
       "      <td>2</td>\n",
       "      <td>4</td>\n",
       "    </tr>\n",
       "    <tr>\n",
       "      <th>1</th>\n",
       "      <td>0</td>\n",
       "      <td>3</td>\n",
       "      <td>2</td>\n",
       "      <td>3</td>\n",
       "      <td>5</td>\n",
       "      <td>4</td>\n",
       "      <td>3</td>\n",
       "    </tr>\n",
       "    <tr>\n",
       "      <th>2</th>\n",
       "      <td>1</td>\n",
       "      <td>5</td>\n",
       "      <td>3</td>\n",
       "      <td>3</td>\n",
       "      <td>3</td>\n",
       "      <td>3</td>\n",
       "      <td>5</td>\n",
       "    </tr>\n",
       "    <tr>\n",
       "      <th>3</th>\n",
       "      <td>0</td>\n",
       "      <td>5</td>\n",
       "      <td>4</td>\n",
       "      <td>3</td>\n",
       "      <td>3</td>\n",
       "      <td>3</td>\n",
       "      <td>5</td>\n",
       "    </tr>\n",
       "    <tr>\n",
       "      <th>4</th>\n",
       "      <td>0</td>\n",
       "      <td>5</td>\n",
       "      <td>4</td>\n",
       "      <td>3</td>\n",
       "      <td>3</td>\n",
       "      <td>3</td>\n",
       "      <td>5</td>\n",
       "    </tr>\n",
       "  </tbody>\n",
       "</table>\n",
       "</div>"
      ],
      "text/plain": [
       "   Y  X1  X2  X3  X4  X5  X6\n",
       "0  0   3   3   3   4   2   4\n",
       "1  0   3   2   3   5   4   3\n",
       "2  1   5   3   3   3   3   5\n",
       "3  0   5   4   3   3   3   5\n",
       "4  0   5   4   3   3   3   5"
      ]
     },
     "execution_count": 2,
     "metadata": {},
     "output_type": "execute_result"
    }
   ],
   "source": [
    "df=pd.read_csv('ACME-HappinessSurvey2020.csv')\n",
    "df.head()"
   ]
  },
  {
   "cell_type": "code",
   "execution_count": 3,
   "id": "d3aae8a2",
   "metadata": {
    "scrolled": true
   },
   "outputs": [
    {
     "name": "stdout",
     "output_type": "stream",
     "text": [
      " This dataset has 126 rows and 7 columns.\n"
     ]
    }
   ],
   "source": [
    "print(f' This dataset has {df.shape[0]} rows and {df.shape[1]} columns.')"
   ]
  },
  {
   "cell_type": "markdown",
   "id": "161b7433",
   "metadata": {},
   "source": [
    "# EDA <a class=\"anchor\" id=\"eda\"></a>"
   ]
  },
  {
   "cell_type": "code",
   "execution_count": 4,
   "id": "b8c80f5a",
   "metadata": {},
   "outputs": [
    {
     "name": "stdout",
     "output_type": "stream",
     "text": [
      "<class 'pandas.core.frame.DataFrame'>\n",
      "RangeIndex: 126 entries, 0 to 125\n",
      "Data columns (total 7 columns):\n",
      " #   Column  Non-Null Count  Dtype\n",
      "---  ------  --------------  -----\n",
      " 0   Y       126 non-null    int64\n",
      " 1   X1      126 non-null    int64\n",
      " 2   X2      126 non-null    int64\n",
      " 3   X3      126 non-null    int64\n",
      " 4   X4      126 non-null    int64\n",
      " 5   X5      126 non-null    int64\n",
      " 6   X6      126 non-null    int64\n",
      "dtypes: int64(7)\n",
      "memory usage: 7.0 KB\n"
     ]
    }
   ],
   "source": [
    "# check datatype\n",
    "df.info()"
   ]
  },
  {
   "cell_type": "markdown",
   "id": "5933e763",
   "metadata": {},
   "source": [
    "### 1. Check missing values <a class=\"anchor\" id=\"nan\"></a>"
   ]
  },
  {
   "cell_type": "code",
   "execution_count": 5,
   "id": "6f7cf821",
   "metadata": {
    "scrolled": true
   },
   "outputs": [
    {
     "data": {
      "text/plain": [
       "Y     0\n",
       "X1    0\n",
       "X2    0\n",
       "X3    0\n",
       "X4    0\n",
       "X5    0\n",
       "X6    0\n",
       "dtype: int64"
      ]
     },
     "execution_count": 5,
     "metadata": {},
     "output_type": "execute_result"
    }
   ],
   "source": [
    "df.isna().sum()"
   ]
  },
  {
   "cell_type": "markdown",
   "id": "71c1a43f",
   "metadata": {},
   "source": [
    "### 2. Check duplicates <a class=\"anchor\" id=\"dup\"></a>"
   ]
  },
  {
   "cell_type": "code",
   "execution_count": 6,
   "id": "738c7267",
   "metadata": {
    "scrolled": true
   },
   "outputs": [
    {
     "data": {
      "text/plain": [
       "16"
      ]
     },
     "execution_count": 6,
     "metadata": {},
     "output_type": "execute_result"
    }
   ],
   "source": [
    "# check duplicated rows\n",
    "df.duplicated().sum()"
   ]
  },
  {
   "cell_type": "code",
   "execution_count": 7,
   "id": "135f967b",
   "metadata": {},
   "outputs": [
    {
     "data": {
      "text/plain": [
       "12.698412698412698"
      ]
     },
     "execution_count": 7,
     "metadata": {},
     "output_type": "execute_result"
    }
   ],
   "source": [
    "# percentage of duplicates\n",
    "df.duplicated().sum()/df.shape[0]*100"
   ]
  },
  {
   "cell_type": "code",
   "execution_count": 8,
   "id": "b7dcfe2b",
   "metadata": {},
   "outputs": [
    {
     "data": {
      "text/plain": [
       "0"
      ]
     },
     "execution_count": 8,
     "metadata": {},
     "output_type": "execute_result"
    }
   ],
   "source": [
    "# check duplicated columns\n",
    "df.T.duplicated().sum()"
   ]
  },
  {
   "cell_type": "markdown",
   "id": "ea02dae4",
   "metadata": {},
   "source": [
    "We see there is no missing values but approximately **13%** of the dataset is duplicate on the row-level. Let's investigate further using the index returned."
   ]
  },
  {
   "cell_type": "code",
   "execution_count": 9,
   "id": "289f8c56",
   "metadata": {},
   "outputs": [
    {
     "data": {
      "text/html": [
       "<div>\n",
       "<style scoped>\n",
       "    .dataframe tbody tr th:only-of-type {\n",
       "        vertical-align: middle;\n",
       "    }\n",
       "\n",
       "    .dataframe tbody tr th {\n",
       "        vertical-align: top;\n",
       "    }\n",
       "\n",
       "    .dataframe thead th {\n",
       "        text-align: right;\n",
       "    }\n",
       "</style>\n",
       "<table border=\"1\" class=\"dataframe\">\n",
       "  <thead>\n",
       "    <tr style=\"text-align: right;\">\n",
       "      <th></th>\n",
       "      <th>Y</th>\n",
       "      <th>X1</th>\n",
       "      <th>X2</th>\n",
       "      <th>X3</th>\n",
       "      <th>X4</th>\n",
       "      <th>X5</th>\n",
       "      <th>X6</th>\n",
       "    </tr>\n",
       "  </thead>\n",
       "  <tbody>\n",
       "    <tr>\n",
       "      <th>3</th>\n",
       "      <td>0</td>\n",
       "      <td>5</td>\n",
       "      <td>4</td>\n",
       "      <td>3</td>\n",
       "      <td>3</td>\n",
       "      <td>3</td>\n",
       "      <td>5</td>\n",
       "    </tr>\n",
       "    <tr>\n",
       "      <th>4</th>\n",
       "      <td>0</td>\n",
       "      <td>5</td>\n",
       "      <td>4</td>\n",
       "      <td>3</td>\n",
       "      <td>3</td>\n",
       "      <td>3</td>\n",
       "      <td>5</td>\n",
       "    </tr>\n",
       "    <tr>\n",
       "      <th>7</th>\n",
       "      <td>1</td>\n",
       "      <td>5</td>\n",
       "      <td>4</td>\n",
       "      <td>4</td>\n",
       "      <td>4</td>\n",
       "      <td>4</td>\n",
       "      <td>5</td>\n",
       "    </tr>\n",
       "    <tr>\n",
       "      <th>19</th>\n",
       "      <td>0</td>\n",
       "      <td>4</td>\n",
       "      <td>2</td>\n",
       "      <td>4</td>\n",
       "      <td>4</td>\n",
       "      <td>4</td>\n",
       "      <td>4</td>\n",
       "    </tr>\n",
       "    <tr>\n",
       "      <th>21</th>\n",
       "      <td>0</td>\n",
       "      <td>4</td>\n",
       "      <td>3</td>\n",
       "      <td>5</td>\n",
       "      <td>5</td>\n",
       "      <td>5</td>\n",
       "      <td>4</td>\n",
       "    </tr>\n",
       "    <tr>\n",
       "      <th>22</th>\n",
       "      <td>0</td>\n",
       "      <td>4</td>\n",
       "      <td>3</td>\n",
       "      <td>5</td>\n",
       "      <td>5</td>\n",
       "      <td>5</td>\n",
       "      <td>4</td>\n",
       "    </tr>\n",
       "    <tr>\n",
       "      <th>27</th>\n",
       "      <td>1</td>\n",
       "      <td>3</td>\n",
       "      <td>3</td>\n",
       "      <td>1</td>\n",
       "      <td>3</td>\n",
       "      <td>3</td>\n",
       "      <td>4</td>\n",
       "    </tr>\n",
       "    <tr>\n",
       "      <th>28</th>\n",
       "      <td>1</td>\n",
       "      <td>3</td>\n",
       "      <td>3</td>\n",
       "      <td>1</td>\n",
       "      <td>3</td>\n",
       "      <td>3</td>\n",
       "      <td>4</td>\n",
       "    </tr>\n",
       "    <tr>\n",
       "      <th>32</th>\n",
       "      <td>1</td>\n",
       "      <td>3</td>\n",
       "      <td>2</td>\n",
       "      <td>4</td>\n",
       "      <td>4</td>\n",
       "      <td>4</td>\n",
       "      <td>5</td>\n",
       "    </tr>\n",
       "    <tr>\n",
       "      <th>33</th>\n",
       "      <td>1</td>\n",
       "      <td>3</td>\n",
       "      <td>2</td>\n",
       "      <td>4</td>\n",
       "      <td>4</td>\n",
       "      <td>4</td>\n",
       "      <td>5</td>\n",
       "    </tr>\n",
       "    <tr>\n",
       "      <th>36</th>\n",
       "      <td>1</td>\n",
       "      <td>5</td>\n",
       "      <td>3</td>\n",
       "      <td>4</td>\n",
       "      <td>3</td>\n",
       "      <td>4</td>\n",
       "      <td>5</td>\n",
       "    </tr>\n",
       "    <tr>\n",
       "      <th>37</th>\n",
       "      <td>1</td>\n",
       "      <td>5</td>\n",
       "      <td>3</td>\n",
       "      <td>4</td>\n",
       "      <td>3</td>\n",
       "      <td>4</td>\n",
       "      <td>5</td>\n",
       "    </tr>\n",
       "    <tr>\n",
       "      <th>46</th>\n",
       "      <td>1</td>\n",
       "      <td>5</td>\n",
       "      <td>3</td>\n",
       "      <td>3</td>\n",
       "      <td>4</td>\n",
       "      <td>4</td>\n",
       "      <td>5</td>\n",
       "    </tr>\n",
       "    <tr>\n",
       "      <th>49</th>\n",
       "      <td>1</td>\n",
       "      <td>5</td>\n",
       "      <td>1</td>\n",
       "      <td>3</td>\n",
       "      <td>3</td>\n",
       "      <td>4</td>\n",
       "      <td>4</td>\n",
       "    </tr>\n",
       "    <tr>\n",
       "      <th>50</th>\n",
       "      <td>1</td>\n",
       "      <td>5</td>\n",
       "      <td>1</td>\n",
       "      <td>3</td>\n",
       "      <td>3</td>\n",
       "      <td>4</td>\n",
       "      <td>4</td>\n",
       "    </tr>\n",
       "    <tr>\n",
       "      <th>51</th>\n",
       "      <td>1</td>\n",
       "      <td>5</td>\n",
       "      <td>1</td>\n",
       "      <td>3</td>\n",
       "      <td>3</td>\n",
       "      <td>4</td>\n",
       "      <td>4</td>\n",
       "    </tr>\n",
       "    <tr>\n",
       "      <th>52</th>\n",
       "      <td>1</td>\n",
       "      <td>5</td>\n",
       "      <td>2</td>\n",
       "      <td>4</td>\n",
       "      <td>3</td>\n",
       "      <td>4</td>\n",
       "      <td>5</td>\n",
       "    </tr>\n",
       "    <tr>\n",
       "      <th>53</th>\n",
       "      <td>1</td>\n",
       "      <td>5</td>\n",
       "      <td>2</td>\n",
       "      <td>4</td>\n",
       "      <td>3</td>\n",
       "      <td>4</td>\n",
       "      <td>5</td>\n",
       "    </tr>\n",
       "    <tr>\n",
       "      <th>54</th>\n",
       "      <td>1</td>\n",
       "      <td>4</td>\n",
       "      <td>3</td>\n",
       "      <td>2</td>\n",
       "      <td>4</td>\n",
       "      <td>3</td>\n",
       "      <td>4</td>\n",
       "    </tr>\n",
       "    <tr>\n",
       "      <th>55</th>\n",
       "      <td>1</td>\n",
       "      <td>4</td>\n",
       "      <td>3</td>\n",
       "      <td>2</td>\n",
       "      <td>4</td>\n",
       "      <td>3</td>\n",
       "      <td>4</td>\n",
       "    </tr>\n",
       "    <tr>\n",
       "      <th>61</th>\n",
       "      <td>1</td>\n",
       "      <td>5</td>\n",
       "      <td>2</td>\n",
       "      <td>4</td>\n",
       "      <td>4</td>\n",
       "      <td>5</td>\n",
       "      <td>5</td>\n",
       "    </tr>\n",
       "    <tr>\n",
       "      <th>62</th>\n",
       "      <td>1</td>\n",
       "      <td>5</td>\n",
       "      <td>2</td>\n",
       "      <td>4</td>\n",
       "      <td>4</td>\n",
       "      <td>5</td>\n",
       "      <td>5</td>\n",
       "    </tr>\n",
       "    <tr>\n",
       "      <th>64</th>\n",
       "      <td>1</td>\n",
       "      <td>4</td>\n",
       "      <td>1</td>\n",
       "      <td>3</td>\n",
       "      <td>4</td>\n",
       "      <td>4</td>\n",
       "      <td>4</td>\n",
       "    </tr>\n",
       "    <tr>\n",
       "      <th>65</th>\n",
       "      <td>1</td>\n",
       "      <td>4</td>\n",
       "      <td>1</td>\n",
       "      <td>3</td>\n",
       "      <td>4</td>\n",
       "      <td>4</td>\n",
       "      <td>4</td>\n",
       "    </tr>\n",
       "    <tr>\n",
       "      <th>68</th>\n",
       "      <td>1</td>\n",
       "      <td>5</td>\n",
       "      <td>1</td>\n",
       "      <td>5</td>\n",
       "      <td>5</td>\n",
       "      <td>5</td>\n",
       "      <td>5</td>\n",
       "    </tr>\n",
       "    <tr>\n",
       "      <th>79</th>\n",
       "      <td>1</td>\n",
       "      <td>5</td>\n",
       "      <td>5</td>\n",
       "      <td>5</td>\n",
       "      <td>5</td>\n",
       "      <td>5</td>\n",
       "      <td>5</td>\n",
       "    </tr>\n",
       "    <tr>\n",
       "      <th>93</th>\n",
       "      <td>1</td>\n",
       "      <td>5</td>\n",
       "      <td>4</td>\n",
       "      <td>4</td>\n",
       "      <td>4</td>\n",
       "      <td>4</td>\n",
       "      <td>5</td>\n",
       "    </tr>\n",
       "    <tr>\n",
       "      <th>95</th>\n",
       "      <td>1</td>\n",
       "      <td>5</td>\n",
       "      <td>5</td>\n",
       "      <td>5</td>\n",
       "      <td>5</td>\n",
       "      <td>5</td>\n",
       "      <td>5</td>\n",
       "    </tr>\n",
       "    <tr>\n",
       "      <th>107</th>\n",
       "      <td>0</td>\n",
       "      <td>4</td>\n",
       "      <td>2</td>\n",
       "      <td>4</td>\n",
       "      <td>4</td>\n",
       "      <td>4</td>\n",
       "      <td>4</td>\n",
       "    </tr>\n",
       "    <tr>\n",
       "      <th>117</th>\n",
       "      <td>1</td>\n",
       "      <td>5</td>\n",
       "      <td>1</td>\n",
       "      <td>5</td>\n",
       "      <td>5</td>\n",
       "      <td>5</td>\n",
       "      <td>5</td>\n",
       "    </tr>\n",
       "    <tr>\n",
       "      <th>123</th>\n",
       "      <td>1</td>\n",
       "      <td>5</td>\n",
       "      <td>3</td>\n",
       "      <td>3</td>\n",
       "      <td>4</td>\n",
       "      <td>4</td>\n",
       "      <td>5</td>\n",
       "    </tr>\n",
       "  </tbody>\n",
       "</table>\n",
       "</div>"
      ],
      "text/plain": [
       "     Y  X1  X2  X3  X4  X5  X6\n",
       "3    0   5   4   3   3   3   5\n",
       "4    0   5   4   3   3   3   5\n",
       "7    1   5   4   4   4   4   5\n",
       "19   0   4   2   4   4   4   4\n",
       "21   0   4   3   5   5   5   4\n",
       "22   0   4   3   5   5   5   4\n",
       "27   1   3   3   1   3   3   4\n",
       "28   1   3   3   1   3   3   4\n",
       "32   1   3   2   4   4   4   5\n",
       "33   1   3   2   4   4   4   5\n",
       "36   1   5   3   4   3   4   5\n",
       "37   1   5   3   4   3   4   5\n",
       "46   1   5   3   3   4   4   5\n",
       "49   1   5   1   3   3   4   4\n",
       "50   1   5   1   3   3   4   4\n",
       "51   1   5   1   3   3   4   4\n",
       "52   1   5   2   4   3   4   5\n",
       "53   1   5   2   4   3   4   5\n",
       "54   1   4   3   2   4   3   4\n",
       "55   1   4   3   2   4   3   4\n",
       "61   1   5   2   4   4   5   5\n",
       "62   1   5   2   4   4   5   5\n",
       "64   1   4   1   3   4   4   4\n",
       "65   1   4   1   3   4   4   4\n",
       "68   1   5   1   5   5   5   5\n",
       "79   1   5   5   5   5   5   5\n",
       "93   1   5   4   4   4   4   5\n",
       "95   1   5   5   5   5   5   5\n",
       "107  0   4   2   4   4   4   4\n",
       "117  1   5   1   5   5   5   5\n",
       "123  1   5   3   3   4   4   5"
      ]
     },
     "execution_count": 9,
     "metadata": {},
     "output_type": "execute_result"
    }
   ],
   "source": [
    "# look at duplicated rows\n",
    "df[df.duplicated(keep=False)]"
   ]
  },
  {
   "cell_type": "markdown",
   "id": "ef1820ef",
   "metadata": {},
   "source": [
    "Because there are limited (6) features and no unique identifier, it is possible that the duplicate rows do describe different customers with the same answers. However, given that the shape of dataset is small, we will assume that this is likely, and that these rows are in fact given by different customers, therefore we will keep it as is."
   ]
  },
  {
   "cell_type": "markdown",
   "id": "7de7b9cf",
   "metadata": {},
   "source": [
    "### 3. Check class ratio <a class=\"anchor\" id=\"classratio\"></a>"
   ]
  },
  {
   "cell_type": "code",
   "execution_count": 10,
   "id": "755e51b4",
   "metadata": {},
   "outputs": [],
   "source": [
    "X=df.loc[:,df.columns!='Y']  # or X=df.drop(columns='Y')\n",
    "y=df['Y']"
   ]
  },
  {
   "cell_type": "code",
   "execution_count": 11,
   "id": "7ec74764",
   "metadata": {
    "scrolled": true
   },
   "outputs": [
    {
     "data": {
      "text/html": [
       "<div>\n",
       "<style scoped>\n",
       "    .dataframe tbody tr th:only-of-type {\n",
       "        vertical-align: middle;\n",
       "    }\n",
       "\n",
       "    .dataframe tbody tr th {\n",
       "        vertical-align: top;\n",
       "    }\n",
       "\n",
       "    .dataframe thead th {\n",
       "        text-align: right;\n",
       "    }\n",
       "</style>\n",
       "<table border=\"1\" class=\"dataframe\">\n",
       "  <thead>\n",
       "    <tr style=\"text-align: right;\">\n",
       "      <th></th>\n",
       "      <th>X1</th>\n",
       "      <th>X2</th>\n",
       "      <th>X3</th>\n",
       "      <th>X4</th>\n",
       "      <th>X5</th>\n",
       "      <th>X6</th>\n",
       "    </tr>\n",
       "  </thead>\n",
       "  <tbody>\n",
       "    <tr>\n",
       "      <th>0</th>\n",
       "      <td>3</td>\n",
       "      <td>3</td>\n",
       "      <td>3</td>\n",
       "      <td>4</td>\n",
       "      <td>2</td>\n",
       "      <td>4</td>\n",
       "    </tr>\n",
       "    <tr>\n",
       "      <th>1</th>\n",
       "      <td>3</td>\n",
       "      <td>2</td>\n",
       "      <td>3</td>\n",
       "      <td>5</td>\n",
       "      <td>4</td>\n",
       "      <td>3</td>\n",
       "    </tr>\n",
       "    <tr>\n",
       "      <th>2</th>\n",
       "      <td>5</td>\n",
       "      <td>3</td>\n",
       "      <td>3</td>\n",
       "      <td>3</td>\n",
       "      <td>3</td>\n",
       "      <td>5</td>\n",
       "    </tr>\n",
       "    <tr>\n",
       "      <th>3</th>\n",
       "      <td>5</td>\n",
       "      <td>4</td>\n",
       "      <td>3</td>\n",
       "      <td>3</td>\n",
       "      <td>3</td>\n",
       "      <td>5</td>\n",
       "    </tr>\n",
       "    <tr>\n",
       "      <th>4</th>\n",
       "      <td>5</td>\n",
       "      <td>4</td>\n",
       "      <td>3</td>\n",
       "      <td>3</td>\n",
       "      <td>3</td>\n",
       "      <td>5</td>\n",
       "    </tr>\n",
       "  </tbody>\n",
       "</table>\n",
       "</div>"
      ],
      "text/plain": [
       "   X1  X2  X3  X4  X5  X6\n",
       "0   3   3   3   4   2   4\n",
       "1   3   2   3   5   4   3\n",
       "2   5   3   3   3   3   5\n",
       "3   5   4   3   3   3   5\n",
       "4   5   4   3   3   3   5"
      ]
     },
     "execution_count": 11,
     "metadata": {},
     "output_type": "execute_result"
    }
   ],
   "source": [
    "X.head()"
   ]
  },
  {
   "cell_type": "code",
   "execution_count": 12,
   "id": "8f5e6fa8",
   "metadata": {
    "scrolled": true
   },
   "outputs": [
    {
     "data": {
      "text/plain": [
       "0    0\n",
       "1    0\n",
       "2    1\n",
       "3    0\n",
       "4    0\n",
       "Name: Y, dtype: int64"
      ]
     },
     "execution_count": 12,
     "metadata": {},
     "output_type": "execute_result"
    }
   ],
   "source": [
    "y.head()"
   ]
  },
  {
   "cell_type": "code",
   "execution_count": 13,
   "id": "91ea0d7b",
   "metadata": {
    "scrolled": false
   },
   "outputs": [
    {
     "data": {
      "text/plain": [
       "1    0.547619\n",
       "0    0.452381\n",
       "Name: Y, dtype: float64"
      ]
     },
     "execution_count": 13,
     "metadata": {},
     "output_type": "execute_result"
    }
   ],
   "source": [
    "# check class ratio\n",
    "y.value_counts(normalize=True)"
   ]
  },
  {
   "cell_type": "markdown",
   "id": "7b3897d3",
   "metadata": {},
   "source": [
    "The dataset is pretty balanced in terms of class ratio."
   ]
  },
  {
   "cell_type": "markdown",
   "id": "e3aa8773",
   "metadata": {},
   "source": [
    "### 4. Rename columns <a class=\"anchor\" id=\"rename\"></a>"
   ]
  },
  {
   "cell_type": "markdown",
   "id": "3273d01a",
   "metadata": {},
   "source": [
    "- Y = target attribute (Y) with values indicating 0 (unhappy) and 1 (happy) customers\n",
    "- X1 = my order was delivered on time\n",
    "- X2 = contents of my order was as I expected\n",
    "- X3 = I ordered everything I wanted to order\n",
    "- X4 = I paid a good price for my order \n",
    "- X5 = I am satisfied with my courier\n",
    "- X6 = the app makes ordering easy for me \n",
    "\n",
    "Given the meaning of the features, I changed the column names for the purpose of interpretability."
   ]
  },
  {
   "cell_type": "code",
   "execution_count": 14,
   "id": "fa44b471",
   "metadata": {
    "scrolled": false
   },
   "outputs": [
    {
     "data": {
      "text/html": [
       "<div>\n",
       "<style scoped>\n",
       "    .dataframe tbody tr th:only-of-type {\n",
       "        vertical-align: middle;\n",
       "    }\n",
       "\n",
       "    .dataframe tbody tr th {\n",
       "        vertical-align: top;\n",
       "    }\n",
       "\n",
       "    .dataframe thead th {\n",
       "        text-align: right;\n",
       "    }\n",
       "</style>\n",
       "<table border=\"1\" class=\"dataframe\">\n",
       "  <thead>\n",
       "    <tr style=\"text-align: right;\">\n",
       "      <th></th>\n",
       "      <th>on-time_delivery</th>\n",
       "      <th>correct_order_contents</th>\n",
       "      <th>availability</th>\n",
       "      <th>good_price</th>\n",
       "      <th>courier_satisfaction</th>\n",
       "      <th>easy_order</th>\n",
       "    </tr>\n",
       "  </thead>\n",
       "  <tbody>\n",
       "    <tr>\n",
       "      <th>0</th>\n",
       "      <td>3</td>\n",
       "      <td>3</td>\n",
       "      <td>3</td>\n",
       "      <td>4</td>\n",
       "      <td>2</td>\n",
       "      <td>4</td>\n",
       "    </tr>\n",
       "    <tr>\n",
       "      <th>1</th>\n",
       "      <td>3</td>\n",
       "      <td>2</td>\n",
       "      <td>3</td>\n",
       "      <td>5</td>\n",
       "      <td>4</td>\n",
       "      <td>3</td>\n",
       "    </tr>\n",
       "    <tr>\n",
       "      <th>2</th>\n",
       "      <td>5</td>\n",
       "      <td>3</td>\n",
       "      <td>3</td>\n",
       "      <td>3</td>\n",
       "      <td>3</td>\n",
       "      <td>5</td>\n",
       "    </tr>\n",
       "    <tr>\n",
       "      <th>3</th>\n",
       "      <td>5</td>\n",
       "      <td>4</td>\n",
       "      <td>3</td>\n",
       "      <td>3</td>\n",
       "      <td>3</td>\n",
       "      <td>5</td>\n",
       "    </tr>\n",
       "    <tr>\n",
       "      <th>4</th>\n",
       "      <td>5</td>\n",
       "      <td>4</td>\n",
       "      <td>3</td>\n",
       "      <td>3</td>\n",
       "      <td>3</td>\n",
       "      <td>5</td>\n",
       "    </tr>\n",
       "  </tbody>\n",
       "</table>\n",
       "</div>"
      ],
      "text/plain": [
       "   on-time_delivery  correct_order_contents  availability  good_price  \\\n",
       "0                 3                       3             3           4   \n",
       "1                 3                       2             3           5   \n",
       "2                 5                       3             3           3   \n",
       "3                 5                       4             3           3   \n",
       "4                 5                       4             3           3   \n",
       "\n",
       "   courier_satisfaction  easy_order  \n",
       "0                     2           4  \n",
       "1                     4           3  \n",
       "2                     3           5  \n",
       "3                     3           5  \n",
       "4                     3           5  "
      ]
     },
     "execution_count": 14,
     "metadata": {},
     "output_type": "execute_result"
    }
   ],
   "source": [
    "X.columns=['on-time_delivery','correct_order_contents','availability','good_price','courier_satisfaction','easy_order']\n",
    "X.head()"
   ]
  },
  {
   "cell_type": "markdown",
   "id": "f5b1bf00",
   "metadata": {},
   "source": [
    "### 5. Check outliers <a class=\"anchor\" id=\"outliers\"></a>"
   ]
  },
  {
   "cell_type": "code",
   "execution_count": 15,
   "id": "4688d6f8",
   "metadata": {
    "scrolled": true
   },
   "outputs": [
    {
     "data": {
      "image/png": "[encoded data removed]",
      "text/plain": [
       "<Figure size 640x480 with 1 Axes>"
      ]
     },
     "metadata": {},
     "output_type": "display_data"
    }
   ],
   "source": [
    "sns.boxplot(data=X, orient=\"h\");"
   ]
  },
  {
   "cell_type": "markdown",
   "id": "0f0f1208",
   "metadata": {},
   "source": [
    "The number of outliers is not significant, so no action is required."
   ]
  },
  {
   "cell_type": "markdown",
   "id": "b2be70b5",
   "metadata": {},
   "source": [
    "### 6. Check multicollinearity <a class=\"anchor\" id=\"multicollinearity\"></a>\n"
   ]
  },
  {
   "cell_type": "code",
   "execution_count": 16,
   "id": "68ca49b6",
   "metadata": {},
   "outputs": [
    {
     "data": {
      "image/png": "[encoded data removed]",
      "text/plain": [
       "<Figure size 400x300 with 2 Axes>"
      ]
     },
     "metadata": {},
     "output_type": "display_data"
    }
   ],
   "source": [
    "# heatmap of correlation\n",
    "plt.figure(figsize=(4,3))\n",
    "matrix = np.triu(X.corr())\n",
    "sns.heatmap(X.corr(), annot=True, mask=matrix, cmap='coolwarm')\n",
    "plt.show()"
   ]
  },
  {
   "cell_type": "markdown",
   "id": "29ceb6aa",
   "metadata": {},
   "source": [
    "We see no multicollinearity between the variables.\n",
    "> Overall, we can see that this dataset is clean and ready for modelling."
   ]
  },
  {
   "cell_type": "markdown",
   "id": "6a955363",
   "metadata": {},
   "source": [
    "# Data Split <a class=\"anchor\" id=\"datasplit\"></a>"
   ]
  },
  {
   "cell_type": "code",
   "execution_count": 17,
   "id": "6df61e0f",
   "metadata": {},
   "outputs": [],
   "source": [
    "X_train, X_test, y_train, y_test = train_test_split(X, y, test_size=0.2, stratify=y, random_state=1)"
   ]
  },
  {
   "cell_type": "code",
   "execution_count": 18,
   "id": "f88069d6",
   "metadata": {
    "scrolled": true
   },
   "outputs": [
    {
     "data": {
      "text/plain": [
       "(100, 6)"
      ]
     },
     "execution_count": 18,
     "metadata": {},
     "output_type": "execute_result"
    }
   ],
   "source": [
    "X_train.shape"
   ]
  },
  {
   "cell_type": "code",
   "execution_count": 19,
   "id": "46d82851",
   "metadata": {
    "scrolled": false
   },
   "outputs": [
    {
     "data": {
      "text/plain": [
       "(26, 6)"
      ]
     },
     "execution_count": 19,
     "metadata": {},
     "output_type": "execute_result"
    }
   ],
   "source": [
    "X_test.shape"
   ]
  },
  {
   "cell_type": "markdown",
   "id": "ed75d810",
   "metadata": {},
   "source": [
    "# Feature Selection <a class=\"anchor\" id=\"fs\"></a>"
   ]
  },
  {
   "cell_type": "markdown",
   "id": "175cf99d",
   "metadata": {},
   "source": [
    "### 1. Feature Importance <a class=\"anchor\" id=\"fi\"></a>"
   ]
  },
  {
   "cell_type": "code",
   "execution_count": 20,
   "id": "1a147cae",
   "metadata": {},
   "outputs": [
    {
     "data": {
      "text/html": [
       "<div>\n",
       "<style scoped>\n",
       "    .dataframe tbody tr th:only-of-type {\n",
       "        vertical-align: middle;\n",
       "    }\n",
       "\n",
       "    .dataframe tbody tr th {\n",
       "        vertical-align: top;\n",
       "    }\n",
       "\n",
       "    .dataframe thead th {\n",
       "        text-align: right;\n",
       "    }\n",
       "</style>\n",
       "<table border=\"1\" class=\"dataframe\">\n",
       "  <thead>\n",
       "    <tr style=\"text-align: right;\">\n",
       "      <th></th>\n",
       "      <th>Feature importance</th>\n",
       "    </tr>\n",
       "  </thead>\n",
       "  <tbody>\n",
       "    <tr>\n",
       "      <th>availability</th>\n",
       "      <td>0.207126</td>\n",
       "    </tr>\n",
       "    <tr>\n",
       "      <th>courier_satisfaction</th>\n",
       "      <td>0.192107</td>\n",
       "    </tr>\n",
       "    <tr>\n",
       "      <th>correct_order_contents</th>\n",
       "      <td>0.186031</td>\n",
       "    </tr>\n",
       "    <tr>\n",
       "      <th>good_price</th>\n",
       "      <td>0.158710</td>\n",
       "    </tr>\n",
       "    <tr>\n",
       "      <th>on-time_delivery</th>\n",
       "      <td>0.155964</td>\n",
       "    </tr>\n",
       "    <tr>\n",
       "      <th>easy_order</th>\n",
       "      <td>0.100063</td>\n",
       "    </tr>\n",
       "  </tbody>\n",
       "</table>\n",
       "</div>"
      ],
      "text/plain": [
       "                        Feature importance\n",
       "availability                      0.207126\n",
       "courier_satisfaction              0.192107\n",
       "correct_order_contents            0.186031\n",
       "good_price                        0.158710\n",
       "on-time_delivery                  0.155964\n",
       "easy_order                        0.100063"
      ]
     },
     "execution_count": 20,
     "metadata": {},
     "output_type": "execute_result"
    }
   ],
   "source": [
    "# Instantiate and fit RandomForestClassifier\n",
    "random_forest=RandomForestClassifier(random_state=666)\n",
    "random_forest.fit(X_train,y_train)\n",
    "\n",
    "# Get feature importances\n",
    "feature_importance=pd.DataFrame({'Feature importance':random_forest.feature_importances_},index=X_train.columns)\n",
    "feature_importance.sort_values(by=['Feature importance'],ascending=False)"
   ]
  },
  {
   "cell_type": "markdown",
   "id": "8dc57bb3",
   "metadata": {},
   "source": [
    "### 2. Univariate Feature Selection <a class=\"anchor\" id=\"ufs\"></a>"
   ]
  },
  {
   "cell_type": "code",
   "execution_count": 21,
   "id": "bb9fa27e",
   "metadata": {},
   "outputs": [
    {
     "data": {
      "text/html": [
       "<div>\n",
       "<style scoped>\n",
       "    .dataframe tbody tr th:only-of-type {\n",
       "        vertical-align: middle;\n",
       "    }\n",
       "\n",
       "    .dataframe tbody tr th {\n",
       "        vertical-align: top;\n",
       "    }\n",
       "\n",
       "    .dataframe thead th {\n",
       "        text-align: right;\n",
       "    }\n",
       "</style>\n",
       "<table border=\"1\" class=\"dataframe\">\n",
       "  <thead>\n",
       "    <tr style=\"text-align: right;\">\n",
       "      <th></th>\n",
       "      <th>Scores</th>\n",
       "    </tr>\n",
       "  </thead>\n",
       "  <tbody>\n",
       "    <tr>\n",
       "      <th>courier_satisfaction</th>\n",
       "      <td>2.526876</td>\n",
       "    </tr>\n",
       "    <tr>\n",
       "      <th>availability</th>\n",
       "      <td>1.789803</td>\n",
       "    </tr>\n",
       "    <tr>\n",
       "      <th>on-time_delivery</th>\n",
       "      <td>0.784357</td>\n",
       "    </tr>\n",
       "    <tr>\n",
       "      <th>good_price</th>\n",
       "      <td>0.688312</td>\n",
       "    </tr>\n",
       "    <tr>\n",
       "      <th>easy_order</th>\n",
       "      <td>0.319337</td>\n",
       "    </tr>\n",
       "    <tr>\n",
       "      <th>correct_order_contents</th>\n",
       "      <td>0.041045</td>\n",
       "    </tr>\n",
       "  </tbody>\n",
       "</table>\n",
       "</div>"
      ],
      "text/plain": [
       "                          Scores\n",
       "courier_satisfaction    2.526876\n",
       "availability            1.789803\n",
       "on-time_delivery        0.784357\n",
       "good_price              0.688312\n",
       "easy_order              0.319337\n",
       "correct_order_contents  0.041045"
      ]
     },
     "execution_count": 21,
     "metadata": {},
     "output_type": "execute_result"
    }
   ],
   "source": [
    "# instantiate and fit\n",
    "my_KBest = SelectKBest(score_func=chi2, k='all').fit(X_train, y_train)\n",
    "\n",
    "# put result into a dataframe\n",
    "KBest_result=pd.DataFrame({'Scores':my_KBest.scores_},index=X_train.columns)\n",
    "KBest_result.sort_values(by=['Scores'],ascending=False)"
   ]
  },
  {
   "cell_type": "markdown",
   "id": "5f99c04a",
   "metadata": {},
   "source": [
    "It is of note that `courier_satisfaction` and `availability` score significantly higher Chi2 value than others. \n",
    "\n",
    "Now let's look at how different K works."
   ]
  },
  {
   "cell_type": "code",
   "execution_count": 22,
   "id": "6a640a76",
   "metadata": {
    "scrolled": true
   },
   "outputs": [
    {
     "name": "stdout",
     "output_type": "stream",
     "text": [
      "k = 1, ['courier_satisfaction']\n",
      "k = 2, ['availability' 'courier_satisfaction']\n",
      "k = 3, ['on-time_delivery' 'availability' 'courier_satisfaction']\n",
      "k = 4, ['on-time_delivery' 'availability' 'good_price' 'courier_satisfaction']\n",
      "k = 5, ['on-time_delivery' 'availability' 'good_price' 'courier_satisfaction'\n",
      " 'easy_order']\n",
      "k = 6, ['on-time_delivery' 'correct_order_contents' 'availability' 'good_price'\n",
      " 'courier_satisfaction' 'easy_order']\n"
     ]
    }
   ],
   "source": [
    "train_score = []\n",
    "test_score = []\n",
    "\n",
    "ks = list(range(1,7))\n",
    "\n",
    "for i in ks: \n",
    "    # fit SelectKBest to train data to return a f_regression score per K value. \n",
    "    my_KBest = SelectKBest(score_func=chi2,k=i).fit(X_train, y_train)\n",
    "    \n",
    "    # Applying the above to the train and test data\n",
    "    X_train_selected = my_KBest.transform(X_train)\n",
    "    X_test_selected = my_KBest.transform(X_test)\n",
    "    \n",
    "    #Run the above on a decision tree model\n",
    "    model = DecisionTreeClassifier(random_state=67)\n",
    "    model.fit(X_train_selected, y_train)\n",
    "    \n",
    "    #Add print statement\n",
    "    print(f\"k = {i}, {np.array(X_train.columns)[my_KBest.get_support()]}\")\n",
    "    \n",
    "#Score the model\n",
    "    train_score.append(model.score(X_train_selected, y_train))\n",
    "    test_score.append(model.score(X_test_selected, y_test))"
   ]
  },
  {
   "cell_type": "code",
   "execution_count": 23,
   "id": "9e64ba09",
   "metadata": {},
   "outputs": [
    {
     "data": {
      "image/png": "[encoded data removed]",
      "text/plain": [
       "<Figure size 640x480 with 1 Axes>"
      ]
     },
     "metadata": {},
     "output_type": "display_data"
    }
   ],
   "source": [
    "#plot the model\n",
    "plt.figure()\n",
    "plt.plot(ks, train_score, label=\"train\")\n",
    "plt.plot(ks, test_score, label=\"test\")\n",
    "plt.xticks(ks)\n",
    "plt.xlabel(\"k\")\n",
    "plt.ylabel(\"Accuracy\")\n",
    "plt.title(\"Performance on Train/Test set\")\n",
    "plt.legend()\n",
    "plt.show()"
   ]
  },
  {
   "cell_type": "markdown",
   "id": "2304ea25",
   "metadata": {},
   "source": [
    "We see **k=3** possibly gives the highest test accuracy. However, a closer look at all the features, we notice that there are only 2 features that are relevant to us - a logistics company, namely `courier_satisfaction` and `on-time_delivery` while the other four are related to our partners, from whom we receive packages to deliver to the customers. Hence, due to many possibilities, I would suggest modelling 3 sets of features:\n",
    "\n",
    "- Set 1: 2 relevant features - `on-time_delivery` and `courier_satisfaction`\n",
    "- Set 2: 2 features that are significantly higher in terms of Chi2 value - `availability` and `courier_satisfaction`\n",
    "- Set 3: 3 features as a result of SelectKBest - `on-time_delivery`,`availability`, and `courier_satisfaction`"
   ]
  },
  {
   "cell_type": "code",
   "execution_count": 24,
   "id": "d1ba3d05",
   "metadata": {
    "scrolled": true
   },
   "outputs": [],
   "source": [
    "# 2 relevant features\n",
    "X_train_2=X_train[['on-time_delivery','courier_satisfaction']]\n",
    "X_test_2=X_test[['on-time_delivery','courier_satisfaction']]\n",
    "\n",
    "# top 2 features by SelectKBest\n",
    "X_train_2_kbest=X_train[['availability','courier_satisfaction']]\n",
    "X_test_2_kbest=X_test[['availability','courier_satisfaction']]\n",
    "\n",
    "# top 3 features by SelectKBest\n",
    "X_train_3_kbest=X_train[['on-time_delivery','availability','courier_satisfaction']]\n",
    "X_test_3_kbest=X_test[['on-time_delivery','availability','courier_satisfaction']]"
   ]
  },
  {
   "cell_type": "markdown",
   "id": "06b9e078",
   "metadata": {},
   "source": [
    "# Modelling <a class=\"anchor\" id=\"model\"></a>"
   ]
  },
  {
   "cell_type": "markdown",
   "id": "a2d9be5f",
   "metadata": {},
   "source": [
    "## 1. Logistic Regression <a class=\"anchor\" id=\"logit\"></a>"
   ]
  },
  {
   "cell_type": "markdown",
   "id": "96a7a7f7",
   "metadata": {},
   "source": [
    "### 2 relevant features: `on-time_delivery` & `courier_satisfaction`"
   ]
  },
  {
   "cell_type": "code",
   "execution_count": 45,
   "id": "2bab6a46",
   "metadata": {},
   "outputs": [
    {
     "name": "stdout",
     "output_type": "stream",
     "text": [
      "Fitting 5 folds for each of 10 candidates, totalling 50 fits\n",
      "\n",
      "################# Results\n",
      "\n",
      "Best param: {'classifier__solver': 'liblinear', 'classifier__penalty': 'l2', 'classifier__C': 1}\n",
      "\n",
      "Best validation score: 0.5800000000000001\n",
      "\n",
      "Train accuracy: 0.580\n",
      "Test accuracy: 0.538\n",
      "Accuracy difference: 0.042\n"
     ]
    }
   ],
   "source": [
    "pipe = Pipeline([('classifier', LogisticRegression(random_state=11, max_iter=1000))])\n",
    "\n",
    "param_grid = [{'classifier__solver':['lbfgs'],\n",
    "               'classifier__penalty':['l2', 'None'],\n",
    "               'classifier__C': [10**i for i in range (-4,4)]},\n",
    "              \n",
    "              {'classifier__solver':['liblinear'],\n",
    "               'classifier__penalty':['l1', 'l2'],\n",
    "               'classifier__C': [10**i for i in range (-4,4)]}, \n",
    "              \n",
    "              {'classifier__solver':['newton-cg'],\n",
    "               'classifier__penalty':['l2', 'None'],\n",
    "               'classifier__C': [10**i for i in range (-4,4)]}, \n",
    "              \n",
    "              {'classifier__solver':['sag'],\n",
    "               'classifier__penalty':['l2', 'None'],\n",
    "               'classifier__C': [10**i for i in range (-4,4)]}, \n",
    "              \n",
    "              {'classifier__solver':['saga'],\n",
    "               'classifier__penalty':['l1', 'l2', 'elasticnet', 'None'],\n",
    "               'classifier__C': [10**i for i in range (-4,4)]} ]\n",
    "\n",
    "logit = RandomizedSearchCV(pipe, param_grid, n_jobs = -1, verbose=1, random_state=66)\n",
    "logit_fitted_2 =logit.fit(X_train_2, y_train)\n",
    "\n",
    "print('\\n################# Results')\n",
    "\n",
    "# best param\n",
    "print(f'\\nBest param: {logit_fitted_2.best_params_}')\n",
    "\n",
    "# best validation score\n",
    "print(f'\\nBest validation score: {logit_fitted_2.best_score_}')\n",
    "\n",
    "# score\n",
    "print('\\nTrain accuracy: %.3f' % logit_fitted_2.score(X_train_2, y_train))\n",
    "print('Test accuracy: %.3f' % logit_fitted_2.score(X_test_2, y_test))\n",
    "print('Accuracy difference: %.3f' % (logit_fitted_2.score(X_train_2, y_train)-logit_fitted_2.score(X_test_2, y_test)).round(4))"
   ]
  },
  {
   "cell_type": "markdown",
   "id": "ae9968f3",
   "metadata": {},
   "source": [
    "### 2 features of the highest Chi2 value: `availability` & `courier_satisfaction`"
   ]
  },
  {
   "cell_type": "code",
   "execution_count": 43,
   "id": "3196e675",
   "metadata": {},
   "outputs": [
    {
     "name": "stdout",
     "output_type": "stream",
     "text": [
      "Fitting 5 folds for each of 10 candidates, totalling 50 fits\n",
      "\n",
      "################# Results\n",
      "\n",
      "Best param: {'classifier__solver': 'lbfgs', 'classifier__penalty': 'l2', 'classifier__C': 1}\n",
      "\n",
      "Best validation score: 0.63\n",
      "\n",
      "Train accuracy: 0.640\n",
      "Test accuracy: 0.538\n",
      "Accuracy difference: 0.102\n"
     ]
    }
   ],
   "source": [
    "logit_fitted_2_kbest =logit.fit(X_train_2_kbest, y_train)\n",
    "\n",
    "print('\\n################# Results')\n",
    "\n",
    "# best param\n",
    "print(f'\\nBest param: {logit_fitted_2_kbest.best_params_}')\n",
    "\n",
    "# best validation score\n",
    "print(f'\\nBest validation score: {logit_fitted_2_kbest.best_score_}')\n",
    "\n",
    "# score\n",
    "print('\\nTrain accuracy: %.3f' % logit_fitted_2_kbest.score(X_train_2_kbest, y_train))\n",
    "print('Test accuracy: %.3f' % logit_fitted_2_kbest.score(X_test_2_kbest, y_test))\n",
    "print('Accuracy difference: %.3f' % (logit_fitted_2_kbest.score(X_train_2_kbest, y_train)-logit_fitted_2_kbest.score(X_test_2_kbest, y_test)).round(4))"
   ]
  },
  {
   "cell_type": "markdown",
   "id": "94ed7bb4",
   "metadata": {},
   "source": [
    "### 3 features by SelectKBest: `availability`,`courier_satisfaction` & `on-time_delivery`"
   ]
  },
  {
   "cell_type": "code",
   "execution_count": 44,
   "id": "b05387e0",
   "metadata": {},
   "outputs": [
    {
     "name": "stdout",
     "output_type": "stream",
     "text": [
      "Fitting 5 folds for each of 10 candidates, totalling 50 fits\n",
      "\n",
      "################# Results\n",
      "\n",
      "Best param: {'classifier__solver': 'sag', 'classifier__penalty': 'l2', 'classifier__C': 0.1}\n",
      "\n",
      "Best validation score: 0.6\n",
      "\n",
      "Train accuracy: 0.630\n",
      "Test accuracy: 0.577\n",
      "Accuracy difference: 0.053\n"
     ]
    }
   ],
   "source": [
    "logit_fitted_3_kbest =logit.fit(X_train_3_kbest, y_train)\n",
    "\n",
    "print('\\n################# Results')\n",
    "\n",
    "# best param\n",
    "print(f'\\nBest param: {logit_fitted_3_kbest.best_params_}')\n",
    "\n",
    "# best validation score\n",
    "print(f'\\nBest validation score: {logit_fitted_3_kbest.best_score_}')\n",
    "\n",
    "# score\n",
    "print('\\nTrain accuracy: %.3f' % logit_fitted_3_kbest.score(X_train_3_kbest, y_train))\n",
    "print('Test accuracy: %.3f' % logit_fitted_3_kbest.score(X_test_3_kbest, y_test))\n",
    "print('Accuracy difference: %.3f' % (logit_fitted_3_kbest.score(X_train_3_kbest, y_train)-logit_fitted_3_kbest.score(X_test_3_kbest, y_test)).round(4))"
   ]
  },
  {
   "cell_type": "markdown",
   "id": "51388b57",
   "metadata": {},
   "source": [
    "## 2. Decision Tree <a class=\"anchor\" id=\"dt\"></a>"
   ]
  },
  {
   "cell_type": "markdown",
   "id": "651643ce",
   "metadata": {},
   "source": [
    "### 2 relevant features: `on-time_delivery` & `courier_satisfaction`"
   ]
  },
  {
   "cell_type": "code",
   "execution_count": 28,
   "id": "a0161924",
   "metadata": {
    "scrolled": false
   },
   "outputs": [
    {
     "name": "stdout",
     "output_type": "stream",
     "text": [
      "Fitting 5 folds for each of 10 candidates, totalling 50 fits\n",
      "\n",
      "################# Results\n",
      "\n",
      "Best param: {'classifier__min_samples_split': 20, 'classifier__min_samples_leaf': 5, 'classifier__min_impurity_decrease': 0.0001, 'classifier__max_leaf_nodes': 13, 'classifier__max_features': 2, 'classifier__max_depth': 4}\n",
      "\n",
      "Best validation score: 0.68\n",
      "\n",
      "Train accuracy: 0.690\n",
      "Test accuracy: 0.731\n",
      "Accuracy difference: -0.041\n"
     ]
    }
   ],
   "source": [
    "pipe = Pipeline([('classifier', DecisionTreeClassifier(random_state=999))])\n",
    "\n",
    "param_grid = {'classifier__max_depth': [3,4,5],\n",
    "              'classifier__min_samples_split':list(range(5,21,5)),         \n",
    "              'classifier__min_samples_leaf':list(range(5,21,5)),         \n",
    "              'classifier__max_features':[1,2,3],\n",
    "              'classifier__max_leaf_nodes':[5,7,10,13,15],\n",
    "              'classifier__min_impurity_decrease':[10**i for i in range (-6,-2)]}\n",
    "\n",
    "dt = RandomizedSearchCV(pipe, param_grid, n_jobs = -1, verbose=1, random_state=545)\n",
    "dt_fitted_2 = dt.fit(X_train_2, y_train)\n",
    "\n",
    "print('\\n################# Results')\n",
    "\n",
    "# best param\n",
    "print(f'\\nBest param: {dt_fitted_2.best_params_}')\n",
    "\n",
    "# best validation score\n",
    "print(f'\\nBest validation score: {dt_fitted_2.best_score_}')\n",
    "\n",
    "# score\n",
    "print('\\nTrain accuracy: %.3f' % dt_fitted_2.score(X_train_2, y_train))\n",
    "print('Test accuracy: %.3f' % dt_fitted_2.score(X_test_2, y_test))\n",
    "print('Accuracy difference: %.3f' % (dt_fitted_2.score(X_train_2, y_train)-dt_fitted_2.score(X_test_2, y_test)).round(4))"
   ]
  },
  {
   "cell_type": "markdown",
   "id": "7149e8ac",
   "metadata": {},
   "source": [
    "### 2 features of the highest Chi2 value: `availability` & `courier_satisfaction`"
   ]
  },
  {
   "cell_type": "code",
   "execution_count": 29,
   "id": "f95c5b6b",
   "metadata": {},
   "outputs": [
    {
     "name": "stdout",
     "output_type": "stream",
     "text": [
      "Fitting 5 folds for each of 10 candidates, totalling 50 fits\n",
      "\n",
      "################# Results\n",
      "\n",
      "Best param: {'classifier__min_samples_split': 20, 'classifier__min_samples_leaf': 5, 'classifier__min_impurity_decrease': 0.0001, 'classifier__max_leaf_nodes': 13, 'classifier__max_features': 2, 'classifier__max_depth': 4}\n",
      "\n",
      "Best validation score: 0.65\n",
      "\n",
      "Train accuracy: 0.690\n",
      "Test accuracy: 0.423\n",
      "Accuracy difference: 0.267\n"
     ]
    }
   ],
   "source": [
    "dt_fitted_2_kbest = dt.fit(X_train_2_kbest, y_train)\n",
    "\n",
    "print('\\n################# Results')\n",
    "\n",
    "# best param\n",
    "print(f'\\nBest param: {dt_fitted_2_kbest.best_params_}')\n",
    "\n",
    "# best validation score\n",
    "print(f'\\nBest validation score: {dt_fitted_2_kbest.best_score_}')\n",
    "\n",
    "# score\n",
    "print('\\nTrain accuracy: %.3f' % dt_fitted_2_kbest.score(X_train_2_kbest, y_train))\n",
    "print('Test accuracy: %.3f' % dt_fitted_2_kbest.score(X_test_2_kbest, y_test))\n",
    "print('Accuracy difference: %.3f' % (dt_fitted_2_kbest.score(X_train_2_kbest, y_train)-dt_fitted_2_kbest.score(X_test_2_kbest, y_test)).round(4))"
   ]
  },
  {
   "cell_type": "markdown",
   "id": "79f1f868",
   "metadata": {},
   "source": [
    "### 3 features by SelectKBest: `availability`,`courier_satisfaction` & `on-time_delivery`"
   ]
  },
  {
   "cell_type": "code",
   "execution_count": 30,
   "id": "f4f3c83b",
   "metadata": {},
   "outputs": [
    {
     "name": "stdout",
     "output_type": "stream",
     "text": [
      "Fitting 5 folds for each of 10 candidates, totalling 50 fits\n",
      "\n",
      "################# Results\n",
      "\n",
      "Best param: {'classifier__min_samples_split': 20, 'classifier__min_samples_leaf': 5, 'classifier__min_impurity_decrease': 0.0001, 'classifier__max_leaf_nodes': 13, 'classifier__max_features': 2, 'classifier__max_depth': 4}\n",
      "\n",
      "Best validation score: 0.7\n",
      "\n",
      "Train accuracy: 0.720\n",
      "Test accuracy: 0.654\n",
      "Accuracy difference: 0.066\n"
     ]
    }
   ],
   "source": [
    "dt_fitted_3_kbest = dt.fit(X_train_3_kbest, y_train)\n",
    "\n",
    "print('\\n################# Results')\n",
    "\n",
    "# best param\n",
    "print(f'\\nBest param: {dt_fitted_3_kbest.best_params_}')\n",
    "\n",
    "# best validation score\n",
    "print(f'\\nBest validation score: {dt_fitted_3_kbest.best_score_}')\n",
    "\n",
    "# score\n",
    "print('\\nTrain accuracy: %.3f' % dt_fitted_3_kbest.score(X_train_3_kbest, y_train))\n",
    "print('Test accuracy: %.3f' % dt_fitted_3_kbest.score(X_test_3_kbest, y_test))\n",
    "print('Accuracy difference: %.3f' % (dt_fitted_3_kbest.score(X_train_3_kbest, y_train)-dt_fitted_3_kbest.score(X_test_3_kbest, y_test)).round(4))"
   ]
  },
  {
   "cell_type": "markdown",
   "id": "61265d5d",
   "metadata": {},
   "source": [
    "## 3. Random Forest <a class=\"anchor\" id=\"rf\"></a>"
   ]
  },
  {
   "cell_type": "markdown",
   "id": "39511051",
   "metadata": {},
   "source": [
    "### 2 relevant features: `on-time_delivery` & `courier_satisfaction`"
   ]
  },
  {
   "cell_type": "code",
   "execution_count": 31,
   "id": "44b921c8",
   "metadata": {},
   "outputs": [
    {
     "name": "stdout",
     "output_type": "stream",
     "text": [
      "Fitting 5 folds for each of 10 candidates, totalling 50 fits\n",
      "\n",
      "################# Results\n",
      "\n",
      "Best param: {'classifier__n_estimators': 20, 'classifier__min_samples_split': 20, 'classifier__min_samples_leaf': 5, 'classifier__min_impurity_decrease': 0.001, 'classifier__max_leaf_nodes': 15, 'classifier__max_features': 2, 'classifier__max_depth': 5}\n",
      "\n",
      "Best validation score: 0.64\n",
      "\n",
      "Train accuracy: 0.670\n",
      "Test accuracy: 0.692\n",
      "Accuracy difference: -0.022\n"
     ]
    }
   ],
   "source": [
    "# instantiate the pipe\n",
    "pipe = Pipeline([('classifier', RandomForestClassifier(random_state=8989))])\n",
    "\n",
    "# set up params\n",
    "param_grid = {'classifier__n_estimators':[5,10,15,20,30],\n",
    "              'classifier__max_depth':[3,4,5],\n",
    "              'classifier__min_samples_leaf':list(range(5,21,5)),         \n",
    "              'classifier__min_samples_split':list(range(5,21,5)),         \n",
    "              'classifier__max_features':[1,2,3],\n",
    "              'classifier__max_leaf_nodes':[5,10,15],\n",
    "              'classifier__min_impurity_decrease':[10**i for i in range (-4,-2)]}\n",
    "\n",
    "# instantiate GridSearch\n",
    "rf = RandomizedSearchCV(pipe, param_grid, verbose=1, random_state=4344)\n",
    "rf_fitted_2=rf.fit(X_train_2, y_train)\n",
    "\n",
    "print('\\n################# Results')\n",
    "# best param\n",
    "print(f'\\nBest param: {rf_fitted_2.best_params_}')\n",
    "\n",
    "# best validation score\n",
    "print(f'\\nBest validation score: {rf_fitted_2.best_score_}')\n",
    "\n",
    "# score\n",
    "print('\\nTrain accuracy: %.3f' % rf_fitted_2.score(X_train_2, y_train))\n",
    "print(\"Test accuracy: %.3f\" % rf_fitted_2.score(X_test_2, y_test))\n",
    "print('Accuracy difference: %.3f' % (rf_fitted_2.score(X_train_2, y_train)-rf_fitted_2.score(X_test_2, y_test)).round(4))"
   ]
  },
  {
   "cell_type": "markdown",
   "id": "b9f90faa",
   "metadata": {},
   "source": [
    "### 2 features of the highest Chi2 value: `availability` & `courier_satisfaction`"
   ]
  },
  {
   "cell_type": "code",
   "execution_count": 32,
   "id": "baa5238b",
   "metadata": {},
   "outputs": [
    {
     "name": "stdout",
     "output_type": "stream",
     "text": [
      "Fitting 5 folds for each of 10 candidates, totalling 50 fits\n",
      "\n",
      "################# Results\n",
      "\n",
      "Best param: {'classifier__n_estimators': 5, 'classifier__min_samples_split': 15, 'classifier__min_samples_leaf': 5, 'classifier__min_impurity_decrease': 0.001, 'classifier__max_leaf_nodes': 10, 'classifier__max_features': 1, 'classifier__max_depth': 3}\n",
      "\n",
      "Best validation score: 0.6200000000000001\n",
      "\n",
      "Train accuracy: 0.670\n",
      "Test accuracy: 0.462\n",
      "Accuracy difference: 0.208\n"
     ]
    }
   ],
   "source": [
    "rf_fitted_2_kbest=rf.fit(X_train_2_kbest, y_train)\n",
    "\n",
    "print('\\n################# Results')\n",
    "# best param\n",
    "print(f'\\nBest param: {rf_fitted_2_kbest.best_params_}')\n",
    "\n",
    "# best validation score\n",
    "print(f'\\nBest validation score: {rf_fitted_2_kbest.best_score_}')\n",
    "\n",
    "# score\n",
    "print('\\nTrain accuracy: %.3f' % rf_fitted_2_kbest.score(X_train_2_kbest, y_train))\n",
    "print(\"Test accuracy: %.3f\" % rf_fitted_2_kbest.score(X_test_2_kbest, y_test))\n",
    "print('Accuracy difference: %.3f' % (rf_fitted_2_kbest.score(X_train_2_kbest, y_train)-rf_fitted_2_kbest.score(X_test_2_kbest, y_test)).round(4))"
   ]
  },
  {
   "cell_type": "markdown",
   "id": "e8988d89",
   "metadata": {},
   "source": [
    "### 3 features by SelectKBest: `availability`,`courier_satisfaction` &  `on-time_delivery`"
   ]
  },
  {
   "cell_type": "code",
   "execution_count": 33,
   "id": "af35420e",
   "metadata": {},
   "outputs": [
    {
     "name": "stdout",
     "output_type": "stream",
     "text": [
      "Fitting 5 folds for each of 10 candidates, totalling 50 fits\n",
      "\n",
      "################# Results\n",
      "\n",
      "Best param: {'classifier__n_estimators': 5, 'classifier__min_samples_split': 15, 'classifier__min_samples_leaf': 5, 'classifier__min_impurity_decrease': 0.001, 'classifier__max_leaf_nodes': 10, 'classifier__max_features': 1, 'classifier__max_depth': 3}\n",
      "\n",
      "Best validation score: 0.6799999999999999\n",
      "\n",
      "Train accuracy: 0.670\n",
      "Test accuracy: 0.615\n",
      "Accuracy difference: 0.055\n"
     ]
    }
   ],
   "source": [
    "rf_fitted_3_kbest=rf.fit(X_train_3_kbest, y_train)\n",
    "\n",
    "print('\\n################# Results')\n",
    "# best param\n",
    "print(f'\\nBest param: {rf_fitted_3_kbest.best_params_}')\n",
    "\n",
    "# best validation score\n",
    "print(f'\\nBest validation score: {rf_fitted_3_kbest.best_score_}')\n",
    "\n",
    "# score\n",
    "print('\\nTrain accuracy: %.3f' % rf_fitted_3_kbest.score(X_train_3_kbest, y_train))\n",
    "print(\"Test accuracy: %.3f\" % rf_fitted_3_kbest.score(X_test_3_kbest, y_test))\n",
    "print('Accuracy difference: %.3f' % (rf_fitted_3_kbest.score(X_train_3_kbest, y_train)-rf_fitted_3_kbest.score(X_test_3_kbest, y_test)).round(4))"
   ]
  },
  {
   "cell_type": "markdown",
   "id": "af4283ba",
   "metadata": {},
   "source": [
    "# 4. XGBoost <a class=\"anchor\" id=\"xgb\"></a>"
   ]
  },
  {
   "cell_type": "markdown",
   "id": "501ab456",
   "metadata": {},
   "source": [
    "### 2 relevant features: `on-time_delivery` & `courier_satisfaction`"
   ]
  },
  {
   "cell_type": "code",
   "execution_count": 34,
   "id": "3ab26135",
   "metadata": {},
   "outputs": [
    {
     "name": "stdout",
     "output_type": "stream",
     "text": [
      "Fitting 5 folds for each of 10 candidates, totalling 50 fits\n",
      "\n",
      "################# Results\n",
      "\n",
      "Best parameters: {'classifier__n_estimators': 40, 'classifier__max_depth': 4, 'classifier__learning_rate': 0.006, 'classifier__lambda': 0.009000000000000001, 'classifier__gamma': 0.001}\n",
      "\n",
      "Best score: 0.6900000000000001\n",
      "\n",
      "Train Accuracy: 0.7\n",
      "Test Accuracy: 0.731\n",
      "Accuracy difference: -0.031\n"
     ]
    }
   ],
   "source": [
    "pipe = Pipeline([('classifier', XGBClassifier(random_state=2323))])\n",
    "\n",
    "parameters = {\n",
    "    'classifier__n_estimators': [20,25,30,35,40,45,50],\n",
    "    'classifier__max_depth': [3,4,5],\n",
    "    'classifier__learning_rate': list(np.arange(0.001,0.011,0.001)),\n",
    "    'classifier__lambda': list(np.arange(0.001,0.011,0.001)),\n",
    "    'classifier__gamma': list(np.arange(0.001,0.011,0.001))}\n",
    "    \n",
    "xgb = RandomizedSearchCV(pipe, parameters, n_jobs = -1, verbose = 1, random_state=5675)\n",
    "xgb_fitted_2=xgb.fit(X_train_2, y_train)\n",
    "\n",
    "print('\\n################# Results')\n",
    "\n",
    "# best parameters \n",
    "print(f'\\nBest parameters: {xgb_fitted_2.best_params_}')\n",
    "\n",
    "# best score\n",
    "print(f'\\nBest score: {xgb_fitted_2.best_score_}')\n",
    "\n",
    "# let's score the test set\n",
    "print(f\"\\nTrain Accuracy: {xgb_fitted_2.score(X_train_2, y_train).round(3)}\")\n",
    "print(f\"Test Accuracy: {xgb_fitted_2.score(X_test_2, y_test).round(3)}\")\n",
    "print('Accuracy difference: %.3f' % (xgb_fitted_2.score(X_train_2, y_train) - xgb_fitted_2.score(X_test_2, y_test)).round(3))"
   ]
  },
  {
   "cell_type": "markdown",
   "id": "2fe53b2e",
   "metadata": {},
   "source": [
    "### 2 features of the highest Chi2 value: `availability` & `courier_satisfaction`"
   ]
  },
  {
   "cell_type": "code",
   "execution_count": 35,
   "id": "da0a6521",
   "metadata": {},
   "outputs": [
    {
     "name": "stdout",
     "output_type": "stream",
     "text": [
      "Fitting 5 folds for each of 10 candidates, totalling 50 fits\n",
      "\n",
      "################# Results\n",
      "\n",
      "Best parameters: {'classifier__n_estimators': 25, 'classifier__max_depth': 4, 'classifier__learning_rate': 0.002, 'classifier__lambda': 0.006, 'classifier__gamma': 0.004}\n",
      "\n",
      "Best score: 0.6699999999999999\n",
      "\n",
      "Train Accuracy: 0.69\n",
      "Test Accuracy: 0.423\n",
      "Accuracy difference: 0.267\n"
     ]
    }
   ],
   "source": [
    "xgb_fitted_2_kbest=xgb.fit(X_train_2_kbest, y_train)\n",
    "\n",
    "print('\\n################# Results')\n",
    "\n",
    "# best parameters \n",
    "print(f'\\nBest parameters: {xgb_fitted_2_kbest.best_params_}')\n",
    "\n",
    "# best score\n",
    "print(f'\\nBest score: {xgb_fitted_2_kbest.best_score_}')\n",
    "\n",
    "# let's score the test set\n",
    "print(f\"\\nTrain Accuracy: {xgb_fitted_2_kbest.score(X_train_2_kbest, y_train).round(3)}\")\n",
    "print(f\"Test Accuracy: {xgb_fitted_2_kbest.score(X_test_2_kbest, y_test).round(3)}\")\n",
    "print('Accuracy difference: %.3f' % (xgb_fitted_2_kbest.score(X_train_2_kbest, y_train) - xgb_fitted_2_kbest.score(X_test_2_kbest, y_test)).round(3))"
   ]
  },
  {
   "cell_type": "markdown",
   "id": "53accca1",
   "metadata": {},
   "source": [
    "### 3 features by SelectKBest: `availability`,`courier_satisfaction` &  `on-time_delivery`"
   ]
  },
  {
   "cell_type": "code",
   "execution_count": 36,
   "id": "66a492fe",
   "metadata": {},
   "outputs": [
    {
     "name": "stdout",
     "output_type": "stream",
     "text": [
      "Fitting 5 folds for each of 10 candidates, totalling 50 fits\n",
      "\n",
      "################# Results\n",
      "\n",
      "Best parameters: {'classifier__n_estimators': 20, 'classifier__max_depth': 3, 'classifier__learning_rate': 0.007, 'classifier__lambda': 0.002, 'classifier__gamma': 0.008}\n",
      "\n",
      "Best score: 0.64\n",
      "\n",
      "Train Accuracy: 0.71\n",
      "Test Accuracy: 0.615\n",
      "Accuracy difference: 0.095\n"
     ]
    }
   ],
   "source": [
    "xgb_fitted_3_kbest=xgb.fit(X_train_3_kbest, y_train)\n",
    "\n",
    "print('\\n################# Results')\n",
    "\n",
    "# best parameters \n",
    "print(f'\\nBest parameters: {xgb_fitted_3_kbest.best_params_}')\n",
    "\n",
    "# best score\n",
    "print(f'\\nBest score: {xgb_fitted_3_kbest.best_score_}')\n",
    "\n",
    "# let's score the test set\n",
    "print(f\"\\nTrain Accuracy: {xgb_fitted_3_kbest.score(X_train_3_kbest, y_train).round(3)}\")\n",
    "print(f\"Test Accuracy: {xgb_fitted_3_kbest.score(X_test_3_kbest, y_test).round(3)}\")\n",
    "print('Accuracy difference: %.3f' % (xgb_fitted_3_kbest.score(X_train_3_kbest, y_train) - xgb_fitted_3_kbest.score(X_test_3_kbest, y_test)).round(3))"
   ]
  },
  {
   "cell_type": "markdown",
   "id": "35e91551",
   "metadata": {},
   "source": [
    "### Set 1: `on-time_delivery` & `courier_satisfaction`\n",
    "Accuracy | Logistic |Decision Tree |Random Forest  |XGBoost  \n",
    "---------|----------|--------------|---------------|---------\n",
    "Train    |   0.6    | 0.69         | 0.67          | 0.7     \n",
    "Test     |   0.538  | 0.731        | 0.692         | 0.731\n",
    "\n",
    "---\n",
    "### Set 2:  `availability` & `courier_satisfaction`\n",
    "Accuracy | Logistic |Decision Tree |Random Forest  |XGBoost  \n",
    "---------|----------|--------------|---------------|---------\n",
    "Train    |   0.64   | 0.69         | 0.67          | 0.69     \n",
    "Test     |   0.538  | 0.423        | 0.462         | 0.423   \n",
    "\n",
    "---\n",
    "### Set 3: `on-time_delivery`,`availability` & `courier_satisfaction`\n",
    "Accuracy | Logistic |Decision Tree |Random Forest  |XGBoost  \n",
    "---------|----------|--------------|---------------|---------\n",
    "Train    |   0.63   | 0.72         | 0.67          | 0.71     \n",
    "Test     |   0.577  | 0.654        | 0.615         | 0.615 \n",
    "\n",
    "---\n",
    "\n",
    "# Conclusion <a class=\"anchor\" id=\"conclusion\"></a>\n",
    "\n",
    "\n",
    "Looking at the result table, we see that XGBoost on set 1 (relevant features) outperforms other models with the highest accuracy and no significant accuracy gap between the train and test sets. Therefore, I would choose it as the optimal model as well as `courier_satisfaction` and `on-time_delivery` as important features for the given dataset. \n",
    "\n",
    "However, the accuracy of 73% is **not** an ideal number at all, so to achieve a higher score, it is recommended to introduce more highly relevant features, which would require domain expertise and is room for improvement for subsequent surveys. Meanwhile, the feature X6 or `easy_order` may be considered for removal for future surveys since it ranks last on both feature importance and Chi2 value."
   ]
  }
 ],
 "metadata": {
  "kernelspec": {
   "display_name": "ensemble",
   "language": "python",
   "name": "ensemble"
  },
  "language_info": {
   "codemirror_mode": {
    "name": "ipython",
    "version": 3
   },
   "file_extension": ".py",
   "mimetype": "text/x-python",
   "name": "python",
   "nbconvert_exporter": "python",
   "pygments_lexer": "ipython3",
   "version": "3.8.16"
  }
 },
 "nbformat": 4,
 "nbformat_minor": 5
}
